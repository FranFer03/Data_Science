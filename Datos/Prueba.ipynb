{
 "cells": [
  {
   "cell_type": "code",
   "execution_count": 4,
   "metadata": {},
   "outputs": [],
   "source": [
    "import pandas as pd\n",
    "import numpy as np\n",
    "import requests\n",
    "import json"
   ]
  },
  {
   "cell_type": "markdown",
   "metadata": {},
   "source": [
    "Condiciones de prueba:\n",
    "- Distancia Maxima sin obstaculos - 15 M \n",
    "- Funcionamiento en una pared - 4 M \n",
    "- Funcionamiento en dos pared - 7 M\n",
    "- Funcionamiento 3 pared - 9 M\n",
    "- Funcionamiento 4 pared - 12 M\n"
   ]
  },
  {
   "cell_type": "code",
   "execution_count": 5,
   "metadata": {},
   "outputs": [],
   "source": [
    "data = pd.read_csv('log.csv')"
   ]
  },
  {
   "cell_type": "code",
   "execution_count": 6,
   "metadata": {},
   "outputs": [
    {
     "data": {
      "text/html": [
       "<div>\n",
       "<style scoped>\n",
       "    .dataframe tbody tr th:only-of-type {\n",
       "        vertical-align: middle;\n",
       "    }\n",
       "\n",
       "    .dataframe tbody tr th {\n",
       "        vertical-align: top;\n",
       "    }\n",
       "\n",
       "    .dataframe thead th {\n",
       "        text-align: right;\n",
       "    }\n",
       "</style>\n",
       "<table border=\"1\" class=\"dataframe\">\n",
       "  <thead>\n",
       "    <tr style=\"text-align: right;\">\n",
       "      <th></th>\n",
       "      <th>tiempo</th>\n",
       "      <th>origin</th>\n",
       "      <th>timestamp</th>\n",
       "      <th>class</th>\n",
       "      <th>details</th>\n",
       "    </tr>\n",
       "  </thead>\n",
       "  <tbody>\n",
       "    <tr>\n",
       "      <th>0</th>\n",
       "      <td>2024-02-29 18:36:04.622455</td>\n",
       "      <td>NodoTest001</td>\n",
       "      <td>709048</td>\n",
       "      <td>received</td>\n",
       "      <td>1.709243e+12</td>\n",
       "    </tr>\n",
       "    <tr>\n",
       "      <th>1</th>\n",
       "      <td>2024-02-29 18:36:04.657515</td>\n",
       "      <td>NodoTest001</td>\n",
       "      <td>709061</td>\n",
       "      <td>received</td>\n",
       "      <td>1.709243e+12</td>\n",
       "    </tr>\n",
       "    <tr>\n",
       "      <th>2</th>\n",
       "      <td>2024-02-29 18:36:04.712315</td>\n",
       "      <td>NodoTest001</td>\n",
       "      <td>709132</td>\n",
       "      <td>received</td>\n",
       "      <td>1.709243e+12</td>\n",
       "    </tr>\n",
       "    <tr>\n",
       "      <th>3</th>\n",
       "      <td>2024-02-29 18:36:04.827387</td>\n",
       "      <td>NodoTest001</td>\n",
       "      <td>709251</td>\n",
       "      <td>received</td>\n",
       "      <td>1.709243e+12</td>\n",
       "    </tr>\n",
       "    <tr>\n",
       "      <th>4</th>\n",
       "      <td>2024-02-29 18:36:05.031618</td>\n",
       "      <td>NodoTest001</td>\n",
       "      <td>709457</td>\n",
       "      <td>received</td>\n",
       "      <td>1.709243e+12</td>\n",
       "    </tr>\n",
       "  </tbody>\n",
       "</table>\n",
       "</div>"
      ],
      "text/plain": [
       "                       tiempo       origin  timestamp     class       details\n",
       "0  2024-02-29 18:36:04.622455  NodoTest001     709048  received  1.709243e+12\n",
       "1  2024-02-29 18:36:04.657515  NodoTest001     709061  received  1.709243e+12\n",
       "2  2024-02-29 18:36:04.712315  NodoTest001     709132  received  1.709243e+12\n",
       "3  2024-02-29 18:36:04.827387  NodoTest001     709251  received  1.709243e+12\n",
       "4  2024-02-29 18:36:05.031618  NodoTest001     709457  received  1.709243e+12"
      ]
     },
     "execution_count": 6,
     "metadata": {},
     "output_type": "execute_result"
    }
   ],
   "source": [
    "data.head()"
   ]
  },
  {
   "cell_type": "code",
   "execution_count": null,
   "metadata": {},
   "outputs": [],
   "source": []
  }
 ],
 "metadata": {
  "kernelspec": {
   "display_name": "base",
   "language": "python",
   "name": "python3"
  },
  "language_info": {
   "codemirror_mode": {
    "name": "ipython",
    "version": 3
   },
   "file_extension": ".py",
   "mimetype": "text/x-python",
   "name": "python",
   "nbconvert_exporter": "python",
   "pygments_lexer": "ipython3",
   "version": "3.10.9"
  }
 },
 "nbformat": 4,
 "nbformat_minor": 2
}
